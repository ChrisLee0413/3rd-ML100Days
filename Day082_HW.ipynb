{
 "cells": [
  {
   "cell_type": "markdown",
   "metadata": {},
   "source": [
    "## Work\n",
    "1. 請比較使用不同層數以及不同 Dropout rate 對訓練的效果\n",
    "2. 將 optimizer 改成使用 Adam 並加上適當的 dropout rate 檢視結果"
   ]
  },
  {
   "cell_type": "code",
   "execution_count": 14,
   "metadata": {},
   "outputs": [],
   "source": [
    "import os\n",
    "import keras\n",
    "import itertools\n",
    "# Disable GPU\n",
    "#os.environ[\"CUDA_VISIBLE_DEVICES\"] = \"\""
   ]
  },
  {
   "cell_type": "code",
   "execution_count": 15,
   "metadata": {},
   "outputs": [],
   "source": [
    "train, test = keras.datasets.cifar10.load_data()"
   ]
  },
  {
   "cell_type": "code",
   "execution_count": 16,
   "metadata": {},
   "outputs": [],
   "source": [
    "## 資料前處理\n",
    "def preproc_x(x, flatten=True):\n",
    "    x = x / 255.\n",
    "    if flatten:\n",
    "        x = x.reshape((len(x), -1))\n",
    "    return x\n",
    "\n",
    "def preproc_y(y, num_classes=10):\n",
    "    if y.shape[-1] == 1:\n",
    "        y = keras.utils.to_categorical(y, num_classes)\n",
    "    return y    "
   ]
  },
  {
   "cell_type": "code",
   "execution_count": 17,
   "metadata": {},
   "outputs": [],
   "source": [
    "x_train, y_train = train\n",
    "x_test, y_test = test\n",
    "\n",
    "# Preproc the inputs\n",
    "x_train = preproc_x(x_train)\n",
    "x_test = preproc_x(x_test)\n",
    "\n",
    "# Preprc the outputs\n",
    "y_train = preproc_y(y_train)\n",
    "y_test = preproc_y(y_test)"
   ]
  },
  {
   "cell_type": "code",
   "execution_count": 18,
   "metadata": {},
   "outputs": [],
   "source": [
    "from keras.layers import Dropout\n",
    "def build_mlp(input_shape, output_units=10, num_neurons=[512, 256, 128], drp_ratio=0.2):\n",
    "    input_layer = keras.layers.Input(input_shape)\n",
    "    \n",
    "    for i, n_units in enumerate(num_neurons):\n",
    "        if i == 0:\n",
    "            x = keras.layers.Dense(units=n_units, \n",
    "                                   activation=\"relu\", \n",
    "                                   name=\"hidden_layer\"+str(i+1))(input_layer)\n",
    "            x = Dropout(drp_ratio)(x)\n",
    "        else:\n",
    "            x = keras.layers.Dense(units=n_units, \n",
    "                                   activation=\"relu\", \n",
    "                                   name=\"hidden_layer\"+str(i+1))(x)\n",
    "            x = Dropout(drp_ratio)(x)\n",
    "    \n",
    "    out = keras.layers.Dense(units=output_units, activation=\"softmax\", name=\"output\")(x)\n",
    "    \n",
    "    model = keras.models.Model(inputs=[input_layer], outputs=[out])\n",
    "    return model"
   ]
  },
  {
   "cell_type": "code",
   "execution_count": 19,
   "metadata": {},
   "outputs": [],
   "source": [
    "\"\"\"Code Here\n",
    "設定超參數\n",
    "\"\"\"\n",
    "LEARNING_RATE = 1e-3\n",
    "EPOCHS = 50\n",
    "BATCH_SIZE = 256\n",
    "MOMENTUM = 0.95\n",
    "Dropout_EXP = 0.1"
   ]
  },
  {
   "cell_type": "code",
   "execution_count": 20,
   "metadata": {
    "scrolled": true
   },
   "outputs": [
    {
     "name": "stdout",
     "output_type": "stream",
     "text": [
      "_________________________________________________________________\n",
      "Layer (type)                 Output Shape              Param #   \n",
      "=================================================================\n",
      "input_5 (InputLayer)         (None, 3072)              0         \n",
      "_________________________________________________________________\n",
      "hidden_layer1 (Dense)        (None, 512)               1573376   \n",
      "_________________________________________________________________\n",
      "dropout_10 (Dropout)         (None, 512)               0         \n",
      "_________________________________________________________________\n",
      "hidden_layer2 (Dense)        (None, 256)               131328    \n",
      "_________________________________________________________________\n",
      "dropout_11 (Dropout)         (None, 256)               0         \n",
      "_________________________________________________________________\n",
      "hidden_layer3 (Dense)        (None, 128)               32896     \n",
      "_________________________________________________________________\n",
      "dropout_12 (Dropout)         (None, 128)               0         \n",
      "_________________________________________________________________\n",
      "output (Dense)               (None, 10)                1290      \n",
      "=================================================================\n",
      "Total params: 1,738,890\n",
      "Trainable params: 1,738,890\n",
      "Non-trainable params: 0\n",
      "_________________________________________________________________\n",
      "Train on 50000 samples, validate on 10000 samples\n",
      "Epoch 1/50\n",
      "50000/50000 [==============================] - 25s 510us/step - loss: 1.9659 - acc: 0.2829 - val_loss: 1.7652 - val_acc: 0.3657\n",
      "Epoch 2/50\n",
      "50000/50000 [==============================] - 22s 449us/step - loss: 1.7698 - acc: 0.3622 - val_loss: 1.6717 - val_acc: 0.4074\n",
      "Epoch 3/50\n",
      "50000/50000 [==============================] - 22s 449us/step - loss: 1.6913 - acc: 0.3940 - val_loss: 1.6121 - val_acc: 0.4286\n",
      "Epoch 4/50\n",
      "50000/50000 [==============================] - 22s 448us/step - loss: 1.6470 - acc: 0.4134 - val_loss: 1.6178 - val_acc: 0.4276\n",
      "Epoch 5/50\n",
      "50000/50000 [==============================] - 22s 446us/step - loss: 1.6013 - acc: 0.4258 - val_loss: 1.5510 - val_acc: 0.4468\n",
      "Epoch 6/50\n",
      "50000/50000 [==============================] - 22s 449us/step - loss: 1.5747 - acc: 0.4369 - val_loss: 1.5039 - val_acc: 0.4643\n",
      "Epoch 7/50\n",
      "50000/50000 [==============================] - 22s 448us/step - loss: 1.5465 - acc: 0.4457 - val_loss: 1.4964 - val_acc: 0.4652\n",
      "Epoch 8/50\n",
      "50000/50000 [==============================] - 22s 449us/step - loss: 1.5216 - acc: 0.4556 - val_loss: 1.4734 - val_acc: 0.4771\n",
      "Epoch 9/50\n",
      "50000/50000 [==============================] - 23s 452us/step - loss: 1.4995 - acc: 0.4627 - val_loss: 1.4436 - val_acc: 0.4815\n",
      "Epoch 10/50\n",
      "50000/50000 [==============================] - 22s 448us/step - loss: 1.4905 - acc: 0.4655 - val_loss: 1.4482 - val_acc: 0.4861\n",
      "Epoch 11/50\n",
      "50000/50000 [==============================] - 22s 448us/step - loss: 1.4767 - acc: 0.4728 - val_loss: 1.4538 - val_acc: 0.4821\n",
      "Epoch 12/50\n",
      "50000/50000 [==============================] - 22s 449us/step - loss: 1.4558 - acc: 0.4801 - val_loss: 1.4410 - val_acc: 0.4869\n",
      "Epoch 13/50\n",
      "50000/50000 [==============================] - 22s 447us/step - loss: 1.4432 - acc: 0.4846 - val_loss: 1.4445 - val_acc: 0.4879\n",
      "Epoch 14/50\n",
      "50000/50000 [==============================] - 23s 451us/step - loss: 1.4323 - acc: 0.4876 - val_loss: 1.4153 - val_acc: 0.4946\n",
      "Epoch 15/50\n",
      "50000/50000 [==============================] - 23s 454us/step - loss: 1.4168 - acc: 0.4938 - val_loss: 1.4366 - val_acc: 0.4913\n",
      "Epoch 16/50\n",
      "50000/50000 [==============================] - 22s 446us/step - loss: 1.4037 - acc: 0.4968 - val_loss: 1.4184 - val_acc: 0.4983\n",
      "Epoch 17/50\n",
      "50000/50000 [==============================] - 23s 451us/step - loss: 1.3881 - acc: 0.5033 - val_loss: 1.4432 - val_acc: 0.4773\n",
      "Epoch 18/50\n",
      "50000/50000 [==============================] - 22s 448us/step - loss: 1.3875 - acc: 0.5038 - val_loss: 1.4011 - val_acc: 0.5019\n",
      "Epoch 19/50\n",
      "50000/50000 [==============================] - 23s 452us/step - loss: 1.3740 - acc: 0.5100 - val_loss: 1.3798 - val_acc: 0.5110\n",
      "Epoch 20/50\n",
      "50000/50000 [==============================] - 23s 450us/step - loss: 1.3524 - acc: 0.5166 - val_loss: 1.3860 - val_acc: 0.5088\n",
      "Epoch 21/50\n",
      "50000/50000 [==============================] - 23s 450us/step - loss: 1.3491 - acc: 0.5168 - val_loss: 1.3873 - val_acc: 0.5075\n",
      "Epoch 22/50\n",
      "50000/50000 [==============================] - 23s 454us/step - loss: 1.3447 - acc: 0.5199 - val_loss: 1.3827 - val_acc: 0.5068\n",
      "Epoch 23/50\n",
      "50000/50000 [==============================] - 23s 454us/step - loss: 1.3375 - acc: 0.5224 - val_loss: 1.3689 - val_acc: 0.5144\n",
      "Epoch 24/50\n",
      "50000/50000 [==============================] - 23s 453us/step - loss: 1.3249 - acc: 0.5243 - val_loss: 1.3703 - val_acc: 0.5078\n",
      "Epoch 25/50\n",
      "50000/50000 [==============================] - 23s 456us/step - loss: 1.3114 - acc: 0.5304 - val_loss: 1.4154 - val_acc: 0.4962\n",
      "Epoch 26/50\n",
      "50000/50000 [==============================] - 23s 458us/step - loss: 1.3089 - acc: 0.5314 - val_loss: 1.3697 - val_acc: 0.5129\n",
      "Epoch 27/50\n",
      "50000/50000 [==============================] - 23s 456us/step - loss: 1.2958 - acc: 0.5357 - val_loss: 1.3550 - val_acc: 0.5195\n",
      "Epoch 28/50\n",
      "50000/50000 [==============================] - 23s 457us/step - loss: 1.2898 - acc: 0.5398 - val_loss: 1.3621 - val_acc: 0.5098\n",
      "Epoch 29/50\n",
      "50000/50000 [==============================] - 23s 457us/step - loss: 1.2793 - acc: 0.5406 - val_loss: 1.3869 - val_acc: 0.5059\n",
      "Epoch 30/50\n",
      "50000/50000 [==============================] - 23s 457us/step - loss: 1.2783 - acc: 0.5419 - val_loss: 1.3546 - val_acc: 0.5227\n",
      "Epoch 31/50\n",
      "50000/50000 [==============================] - 23s 455us/step - loss: 1.2712 - acc: 0.5451 - val_loss: 1.3576 - val_acc: 0.5207\n",
      "Epoch 32/50\n",
      "50000/50000 [==============================] - 23s 455us/step - loss: 1.2626 - acc: 0.5476 - val_loss: 1.3431 - val_acc: 0.5242\n",
      "Epoch 33/50\n",
      "50000/50000 [==============================] - 23s 458us/step - loss: 1.2594 - acc: 0.5508 - val_loss: 1.3530 - val_acc: 0.5168\n",
      "Epoch 34/50\n",
      "50000/50000 [==============================] - 23s 454us/step - loss: 1.2461 - acc: 0.5544 - val_loss: 1.3417 - val_acc: 0.5271\n",
      "Epoch 35/50\n",
      "50000/50000 [==============================] - 23s 456us/step - loss: 1.2363 - acc: 0.5555 - val_loss: 1.3504 - val_acc: 0.5259\n",
      "Epoch 36/50\n",
      "50000/50000 [==============================] - 23s 458us/step - loss: 1.2434 - acc: 0.5543 - val_loss: 1.3553 - val_acc: 0.5159\n",
      "Epoch 37/50\n",
      "50000/50000 [==============================] - 23s 457us/step - loss: 1.2347 - acc: 0.5580 - val_loss: 1.3589 - val_acc: 0.5176\n",
      "Epoch 38/50\n",
      "50000/50000 [==============================] - 23s 459us/step - loss: 1.2269 - acc: 0.5605 - val_loss: 1.3458 - val_acc: 0.5226\n",
      "Epoch 39/50\n",
      "50000/50000 [==============================] - 23s 455us/step - loss: 1.2188 - acc: 0.5633 - val_loss: 1.3427 - val_acc: 0.5226\n",
      "Epoch 40/50\n",
      "50000/50000 [==============================] - 23s 456us/step - loss: 1.2151 - acc: 0.5635 - val_loss: 1.3789 - val_acc: 0.5084\n",
      "Epoch 41/50\n",
      "50000/50000 [==============================] - 23s 460us/step - loss: 1.2108 - acc: 0.5667 - val_loss: 1.3418 - val_acc: 0.5228\n",
      "Epoch 42/50\n",
      "50000/50000 [==============================] - 23s 457us/step - loss: 1.2041 - acc: 0.5657 - val_loss: 1.3542 - val_acc: 0.5208\n",
      "Epoch 43/50\n",
      "50000/50000 [==============================] - 23s 458us/step - loss: 1.1999 - acc: 0.5685 - val_loss: 1.3380 - val_acc: 0.5247\n",
      "Epoch 44/50\n",
      "50000/50000 [==============================] - 23s 458us/step - loss: 1.1943 - acc: 0.5711 - val_loss: 1.3446 - val_acc: 0.5236\n",
      "Epoch 45/50\n",
      "50000/50000 [==============================] - 23s 457us/step - loss: 1.1917 - acc: 0.5717 - val_loss: 1.3560 - val_acc: 0.5219\n",
      "Epoch 46/50\n",
      "50000/50000 [==============================] - 23s 460us/step - loss: 1.1877 - acc: 0.5734 - val_loss: 1.3469 - val_acc: 0.5203\n",
      "Epoch 47/50\n",
      "50000/50000 [==============================] - 23s 459us/step - loss: 1.1790 - acc: 0.5768 - val_loss: 1.3420 - val_acc: 0.5304\n",
      "Epoch 48/50\n",
      "50000/50000 [==============================] - 23s 459us/step - loss: 1.1797 - acc: 0.5736 - val_loss: 1.3543 - val_acc: 0.5219\n",
      "Epoch 49/50\n"
     ]
    },
    {
     "name": "stdout",
     "output_type": "stream",
     "text": [
      "50000/50000 [==============================] - 22s 443us/step - loss: 1.1739 - acc: 0.5786 - val_loss: 1.3652 - val_acc: 0.5240\n",
      "Epoch 50/50\n",
      "50000/50000 [==============================] - 22s 441us/step - loss: 1.1729 - acc: 0.5768 - val_loss: 1.3588 - val_acc: 0.5225\n"
     ]
    }
   ],
   "source": [
    "results = {}\n",
    "\"\"\"Code Here\n",
    "撰寫你的訓練流程並將結果用 dictionary 紀錄\n",
    "\"\"\"\n",
    "model = build_mlp(input_shape=x_train.shape[1:], drp_ratio=Dropout_EXP)\n",
    "model.summary()\n",
    "optimizer = keras.optimizers.Adam(lr=LEARNING_RATE)\n",
    "model.compile(loss=\"categorical_crossentropy\", metrics=[\"accuracy\"], optimizer=optimizer)\n",
    "\n",
    "model.fit(x_train, y_train, \n",
    "          epochs=EPOCHS, \n",
    "          batch_size=BATCH_SIZE, \n",
    "          validation_data=(x_test, y_test), \n",
    "          shuffle=True)\n",
    "\n",
    "# Collect results\n",
    "train_loss = model.history.history[\"loss\"]\n",
    "valid_loss = model.history.history[\"val_loss\"]\n",
    "train_acc = model.history.history[\"acc\"]\n",
    "valid_acc = model.history.history[\"val_acc\"]"
   ]
  },
  {
   "cell_type": "code",
   "execution_count": 21,
   "metadata": {},
   "outputs": [
    {
     "data": {
      "image/png": "[encoded data removed]",
      "text/plain": [
       "<Figure size 432x288 with 1 Axes>"
      ]
     },
     "metadata": {
      "needs_background": "light"
     },
     "output_type": "display_data"
    },
    {
     "data": {
      "image/png": "[encoded data removed]",
      "text/plain": [
       "<Figure size 432x288 with 1 Axes>"
      ]
     },
     "metadata": {
      "needs_background": "light"
     },
     "output_type": "display_data"
    }
   ],
   "source": [
    "\"\"\"Code Here\n",
    "將結果繪出\n",
    "\"\"\"\n",
    "import matplotlib.pyplot as plt\n",
    "%matplotlib inline\n",
    "\n",
    "plt.plot(range(len(train_loss)), train_loss, label=\"train loss\")\n",
    "plt.plot(range(len(valid_loss)), valid_loss, label=\"valid loss\")\n",
    "plt.legend()\n",
    "plt.title(\"Loss\")\n",
    "plt.show()\n",
    "\n",
    "plt.plot(range(len(train_acc)), train_acc, label=\"train accuracy\")\n",
    "plt.plot(range(len(valid_acc)), valid_acc, label=\"valid accuracy\")\n",
    "plt.legend()\n",
    "plt.title(\"Accuracy\")\n",
    "plt.show()"
   ]
  },
  {
   "cell_type": "code",
   "execution_count": null,
   "metadata": {},
   "outputs": [],
   "source": []
  }
 ],
 "metadata": {
  "kernelspec": {
   "display_name": "Python 3",
   "language": "python",
   "name": "python3"
  },
  "language_info": {
   "codemirror_mode": {
    "name": "ipython",
    "version": 3
   },
   "file_extension": ".py",
   "mimetype": "text/x-python",
   "name": "python",
   "nbconvert_exporter": "python",
   "pygments_lexer": "ipython3",
   "version": "3.7.5"
  }
 },
 "nbformat": 4,
 "nbformat_minor": 2
}
