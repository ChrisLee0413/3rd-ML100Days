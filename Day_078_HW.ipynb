{
 "cells": [
  {
   "cell_type": "markdown",
   "metadata": {},
   "source": [
    "## Work\n",
    "1. 請嘗試將 preproc_x 替換成以每筆資料的 min/max 進行標準化至 -1 ~ 1 間，再進行訓練\n",
    "2. 請嘗試將 mlp 疊更深 (e.g 5~10 層)，進行訓練後觀察 learning curve 的走勢\n",
    "3. (optional) 請改用 GPU 進行訓練 (如果你有 GPU 的話)，比較使用 CPU 與 GPU 的訓練速度"
   ]
  },
  {
   "cell_type": "code",
   "execution_count": 1,
   "metadata": {},
   "outputs": [
    {
     "data": {
      "text/plain": [
       "'\\nYour code here (optional)\\n確認硬體資源\\n'"
      ]
     },
     "execution_count": 1,
     "metadata": {},
     "output_type": "execute_result"
    }
   ],
   "source": [
    "## \n",
    "\"\"\"\n",
    "Your code here (optional)\n",
    "確認硬體資源\n",
    "\"\"\""
   ]
  },
  {
   "cell_type": "code",
   "execution_count": 2,
   "metadata": {},
   "outputs": [
    {
     "name": "stderr",
     "output_type": "stream",
     "text": [
      "Using TensorFlow backend.\n"
     ]
    }
   ],
   "source": [
    "import os\n",
    "import keras\n",
    "import sklearn\n",
    "# 請嘗試設定 GPU：os.environ\n"
   ]
  },
  {
   "cell_type": "code",
   "execution_count": 3,
   "metadata": {},
   "outputs": [],
   "source": [
    "train, test = keras.datasets.cifar10.load_data()"
   ]
  },
  {
   "cell_type": "code",
   "execution_count": 4,
   "metadata": {},
   "outputs": [],
   "source": [
    "## 資料前處理\n",
    "\"\"\"\n",
    "Your code here\n",
    "\"\"\"\n",
    "def preproc_x(x, flatten=True):\n",
    "    import numpy\n",
    "    from sklearn.preprocessing import LabelEncoder, MinMaxScaler\n",
    "    MMEncoder = MinMaxScaler(feature_range=(-1, 1))\n",
    "    \n",
    "    if flatten:\n",
    "        x = x.reshape((len(x), -1))\n",
    "    \n",
    "    x = MMEncoder.fit_transform(x) \n",
    "            \n",
    "    return x\n",
    "\n",
    "def preproc_y(y, num_classes=10):\n",
    "    if y.shape[-1] == 1:\n",
    "        y = keras.utils.to_categorical(y, num_classes)\n",
    "    return y "
   ]
  },
  {
   "cell_type": "code",
   "execution_count": 5,
   "metadata": {},
   "outputs": [],
   "source": [
    "x_train, y_train = train\n",
    "x_test, y_test = test\n",
    "\n",
    "# Preproc the inputs\n",
    "x_train = preproc_x(x_train)\n",
    "x_test = preproc_x(x_test)\n",
    "\n",
    "# Preprc the outputs\n",
    "y_train = preproc_y(y_train)\n",
    "y_test = preproc_y(y_test)"
   ]
  },
  {
   "cell_type": "code",
   "execution_count": 6,
   "metadata": {},
   "outputs": [
    {
     "name": "stdout",
     "output_type": "stream",
     "text": [
      "_________________________________________________________________\n",
      "Layer (type)                 Output Shape              Param #   \n",
      "=================================================================\n",
      "input_1 (InputLayer)         (None, 3072)              0         \n",
      "_________________________________________________________________\n",
      "hidden_layer1 (Dense)        (None, 2048)              6293504   \n",
      "_________________________________________________________________\n",
      "hidden_layer2 (Dense)        (None, 1024)              2098176   \n",
      "_________________________________________________________________\n",
      "hidden_layer3 (Dense)        (None, 512)               524800    \n",
      "_________________________________________________________________\n",
      "hidden_layer4 (Dense)        (None, 256)               131328    \n",
      "_________________________________________________________________\n",
      "hidden_layer5 (Dense)        (None, 128)               32896     \n",
      "_________________________________________________________________\n",
      "hidden_layer6 (Dense)        (None, 64)                8256      \n",
      "_________________________________________________________________\n",
      "hidden_layer7 (Dense)        (None, 32)                2080      \n",
      "_________________________________________________________________\n",
      "hidden_layer8 (Dense)        (None, 16)                528       \n",
      "_________________________________________________________________\n",
      "output (Dense)               (None, 10)                170       \n",
      "=================================================================\n",
      "Total params: 9,091,738\n",
      "Trainable params: 9,091,738\n",
      "Non-trainable params: 0\n",
      "_________________________________________________________________\n"
     ]
    }
   ],
   "source": [
    "\"\"\"Code Here\n",
    "建立你的神經網路\n",
    "\"\"\"\n",
    "def build_mlp(input_shape, output_units=10, num_neurons=[2048, 1024, 512, 256, 128, 64, 32, 16]):\n",
    "    input_layer = keras.layers.Input(input_shape)\n",
    "    \n",
    "    for i, n_units in enumerate(num_neurons):\n",
    "        if i == 0:\n",
    "            x = keras.layers.Dense(units=n_units, activation=\"relu\", name=\"hidden_layer\"+str(i+1))(input_layer)\n",
    "        else:\n",
    "            x = keras.layers.Dense(units=n_units, activation=\"relu\", name=\"hidden_layer\"+str(i+1))(x)\n",
    "    \n",
    "    out = keras.layers.Dense(units=output_units, activation=\"softmax\", name=\"output\")(x)\n",
    "    \n",
    "    model = keras.models.Model(inputs=[input_layer], outputs=[out])\n",
    "    return model\n",
    "\n",
    "model = build_mlp(input_shape=x_train.shape[1:])\n",
    "model.summary()"
   ]
  },
  {
   "cell_type": "code",
   "execution_count": 7,
   "metadata": {},
   "outputs": [],
   "source": [
    "## 超參數設定\n",
    "LEARNING_RATE = 0.001\n",
    "EPOCHS = 100\n",
    "BATCH_SIZE = 256"
   ]
  },
  {
   "cell_type": "code",
   "execution_count": 8,
   "metadata": {},
   "outputs": [],
   "source": [
    "optimizer = keras.optimizers.Adam(lr=LEARNING_RATE)\n",
    "model.compile(loss=\"categorical_crossentropy\", metrics=[\"accuracy\"], optimizer=optimizer)"
   ]
  },
  {
   "cell_type": "code",
   "execution_count": 9,
   "metadata": {},
   "outputs": [
    {
     "name": "stdout",
     "output_type": "stream",
     "text": [
      "Train on 50000 samples, validate on 10000 samples\n",
      "Epoch 1/100\n",
      "50000/50000 [==============================] - 110s 2ms/step - loss: 1.8542 - acc: 0.3404 - val_loss: 1.6354 - val_acc: 0.4254\n",
      "Epoch 2/100\n",
      "50000/50000 [==============================] - 106s 2ms/step - loss: 1.5761 - acc: 0.4483 - val_loss: 1.5241 - val_acc: 0.4635\n",
      "Epoch 3/100\n",
      "50000/50000 [==============================] - 104s 2ms/step - loss: 1.4370 - acc: 0.4976 - val_loss: 1.4597 - val_acc: 0.4842\n",
      "Epoch 4/100\n",
      "50000/50000 [==============================] - 103s 2ms/step - loss: 1.3438 - acc: 0.5284 - val_loss: 1.4381 - val_acc: 0.4948\n",
      "Epoch 5/100\n",
      "50000/50000 [==============================] - 102s 2ms/step - loss: 1.2434 - acc: 0.5663 - val_loss: 1.3960 - val_acc: 0.5181\n",
      "Epoch 6/100\n",
      "50000/50000 [==============================] - 103s 2ms/step - loss: 1.1509 - acc: 0.5984 - val_loss: 1.3607 - val_acc: 0.5362\n",
      "Epoch 7/100\n",
      "50000/50000 [==============================] - 102s 2ms/step - loss: 1.0649 - acc: 0.6281 - val_loss: 1.3589 - val_acc: 0.5375\n",
      "Epoch 8/100\n",
      "50000/50000 [==============================] - 103s 2ms/step - loss: 0.9737 - acc: 0.6582 - val_loss: 1.4308 - val_acc: 0.5306\n",
      "Epoch 9/100\n",
      "50000/50000 [==============================] - 102s 2ms/step - loss: 0.8940 - acc: 0.6860 - val_loss: 1.4193 - val_acc: 0.5475\n",
      "Epoch 10/100\n",
      "50000/50000 [==============================] - 102s 2ms/step - loss: 0.8037 - acc: 0.7170 - val_loss: 1.4588 - val_acc: 0.5534\n",
      "Epoch 11/100\n",
      "50000/50000 [==============================] - 103s 2ms/step - loss: 0.7181 - acc: 0.7474 - val_loss: 1.5214 - val_acc: 0.5531\n",
      "Epoch 12/100\n",
      "50000/50000 [==============================] - 103s 2ms/step - loss: 0.6568 - acc: 0.7690 - val_loss: 1.6331 - val_acc: 0.5433\n",
      "Epoch 13/100\n",
      "50000/50000 [==============================] - 104s 2ms/step - loss: 0.5790 - acc: 0.7986 - val_loss: 1.7409 - val_acc: 0.5374\n",
      "Epoch 14/100\n",
      "50000/50000 [==============================] - 103s 2ms/step - loss: 0.5163 - acc: 0.8180 - val_loss: 1.8025 - val_acc: 0.5429\n",
      "Epoch 15/100\n",
      "50000/50000 [==============================] - 103s 2ms/step - loss: 0.4589 - acc: 0.8393 - val_loss: 2.0791 - val_acc: 0.5484\n",
      "Epoch 16/100\n",
      "50000/50000 [==============================] - 103s 2ms/step - loss: 0.4094 - acc: 0.8582 - val_loss: 2.1526 - val_acc: 0.5503\n",
      "Epoch 17/100\n",
      "50000/50000 [==============================] - 103s 2ms/step - loss: 0.3821 - acc: 0.8683 - val_loss: 1.9953 - val_acc: 0.5421\n",
      "Epoch 18/100\n",
      "50000/50000 [==============================] - 103s 2ms/step - loss: 0.3290 - acc: 0.8853 - val_loss: 2.1941 - val_acc: 0.5408\n",
      "Epoch 19/100\n",
      "50000/50000 [==============================] - 103s 2ms/step - loss: 0.2963 - acc: 0.8980 - val_loss: 2.4258 - val_acc: 0.5382\n",
      "Epoch 20/100\n",
      "50000/50000 [==============================] - 103s 2ms/step - loss: 0.2871 - acc: 0.9026 - val_loss: 2.3836 - val_acc: 0.5444\n",
      "Epoch 21/100\n",
      "50000/50000 [==============================] - 103s 2ms/step - loss: 0.2548 - acc: 0.9122 - val_loss: 2.4498 - val_acc: 0.5503\n",
      "Epoch 22/100\n",
      "50000/50000 [==============================] - 103s 2ms/step - loss: 0.2206 - acc: 0.9248 - val_loss: 2.4800 - val_acc: 0.5468\n",
      "Epoch 23/100\n",
      "50000/50000 [==============================] - 103s 2ms/step - loss: 0.2128 - acc: 0.9276 - val_loss: 2.6061 - val_acc: 0.5526\n",
      "Epoch 24/100\n",
      "50000/50000 [==============================] - 103s 2ms/step - loss: 0.1979 - acc: 0.9329 - val_loss: 2.5507 - val_acc: 0.5477\n",
      "Epoch 25/100\n",
      "50000/50000 [==============================] - 103s 2ms/step - loss: 0.1835 - acc: 0.9382 - val_loss: 2.8550 - val_acc: 0.5428\n",
      "Epoch 26/100\n",
      "50000/50000 [==============================] - 104s 2ms/step - loss: 0.1838 - acc: 0.9392 - val_loss: 2.6708 - val_acc: 0.5445\n",
      "Epoch 27/100\n",
      "50000/50000 [==============================] - 105s 2ms/step - loss: 0.1632 - acc: 0.9455 - val_loss: 2.8213 - val_acc: 0.5442\n",
      "Epoch 28/100\n",
      "50000/50000 [==============================] - 104s 2ms/step - loss: 0.1590 - acc: 0.9478 - val_loss: 2.7891 - val_acc: 0.5517\n",
      "Epoch 29/100\n",
      "50000/50000 [==============================] - 103s 2ms/step - loss: 0.1411 - acc: 0.9531 - val_loss: 2.7767 - val_acc: 0.5457\n",
      "Epoch 30/100\n",
      "50000/50000 [==============================] - 103s 2ms/step - loss: 0.1551 - acc: 0.9493 - val_loss: 2.6083 - val_acc: 0.5449\n",
      "Epoch 31/100\n",
      "50000/50000 [==============================] - 103s 2ms/step - loss: 0.1354 - acc: 0.9557 - val_loss: 2.8874 - val_acc: 0.5447\n",
      "Epoch 32/100\n",
      "50000/50000 [==============================] - 103s 2ms/step - loss: 0.1295 - acc: 0.9577 - val_loss: 2.7590 - val_acc: 0.5569\n",
      "Epoch 33/100\n",
      "50000/50000 [==============================] - 103s 2ms/step - loss: 0.1187 - acc: 0.9624 - val_loss: 2.8651 - val_acc: 0.5468\n",
      "Epoch 34/100\n",
      "50000/50000 [==============================] - 103s 2ms/step - loss: 0.1216 - acc: 0.9605 - val_loss: 2.9921 - val_acc: 0.5426\n",
      "Epoch 35/100\n",
      "50000/50000 [==============================] - 104s 2ms/step - loss: 0.1191 - acc: 0.9617 - val_loss: 2.8314 - val_acc: 0.5455\n",
      "Epoch 36/100\n",
      "50000/50000 [==============================] - 104s 2ms/step - loss: 0.1072 - acc: 0.9653 - val_loss: 2.9937 - val_acc: 0.5462\n",
      "Epoch 37/100\n",
      "50000/50000 [==============================] - 103s 2ms/step - loss: 0.1068 - acc: 0.9653 - val_loss: 2.9730 - val_acc: 0.5512\n",
      "Epoch 38/100\n",
      "50000/50000 [==============================] - 104s 2ms/step - loss: 0.1074 - acc: 0.9662 - val_loss: 3.0497 - val_acc: 0.5350\n",
      "Epoch 39/100\n",
      "50000/50000 [==============================] - 103s 2ms/step - loss: 0.1046 - acc: 0.9669 - val_loss: 3.0723 - val_acc: 0.5432\n",
      "Epoch 40/100\n",
      "50000/50000 [==============================] - 104s 2ms/step - loss: 0.0990 - acc: 0.9691 - val_loss: 2.9872 - val_acc: 0.5520\n",
      "Epoch 41/100\n",
      "50000/50000 [==============================] - 103s 2ms/step - loss: 0.1033 - acc: 0.9663 - val_loss: 3.0808 - val_acc: 0.5536\n",
      "Epoch 42/100\n",
      "50000/50000 [==============================] - 104s 2ms/step - loss: 0.0969 - acc: 0.9693 - val_loss: 2.9141 - val_acc: 0.5533\n",
      "Epoch 43/100\n",
      "50000/50000 [==============================] - 104s 2ms/step - loss: 0.0916 - acc: 0.9711 - val_loss: 2.9413 - val_acc: 0.5499\n",
      "Epoch 44/100\n",
      "50000/50000 [==============================] - 104s 2ms/step - loss: 0.0908 - acc: 0.9720 - val_loss: 3.0552 - val_acc: 0.5533\n",
      "Epoch 45/100\n",
      "50000/50000 [==============================] - 104s 2ms/step - loss: 0.0866 - acc: 0.9737 - val_loss: 2.9955 - val_acc: 0.5503\n",
      "Epoch 46/100\n",
      "50000/50000 [==============================] - 104s 2ms/step - loss: 0.0841 - acc: 0.9737 - val_loss: 2.8955 - val_acc: 0.5495\n",
      "Epoch 47/100\n",
      "50000/50000 [==============================] - 104s 2ms/step - loss: 0.0795 - acc: 0.9738 - val_loss: 2.9633 - val_acc: 0.5564\n",
      "Epoch 48/100\n",
      "50000/50000 [==============================] - 104s 2ms/step - loss: 0.0852 - acc: 0.9734 - val_loss: 2.8899 - val_acc: 0.5512\n",
      "Epoch 49/100\n",
      "50000/50000 [==============================] - 104s 2ms/step - loss: 0.0742 - acc: 0.9772 - val_loss: 2.9630 - val_acc: 0.5492\n",
      "Epoch 50/100\n",
      "50000/50000 [==============================] - 104s 2ms/step - loss: 0.0798 - acc: 0.9757 - val_loss: 2.9353 - val_acc: 0.5500\n",
      "Epoch 51/100\n",
      "50000/50000 [==============================] - 104s 2ms/step - loss: 0.0772 - acc: 0.9754 - val_loss: 3.1086 - val_acc: 0.5433\n",
      "Epoch 52/100\n",
      "50000/50000 [==============================] - 104s 2ms/step - loss: 0.0789 - acc: 0.9755 - val_loss: 3.1727 - val_acc: 0.5487\n",
      "Epoch 53/100\n",
      "50000/50000 [==============================] - 104s 2ms/step - loss: 0.0815 - acc: 0.9747 - val_loss: 3.0424 - val_acc: 0.5460\n",
      "Epoch 54/100\n",
      "50000/50000 [==============================] - 104s 2ms/step - loss: 0.0694 - acc: 0.9790 - val_loss: 3.0830 - val_acc: 0.5503\n",
      "Epoch 55/100\n",
      "50000/50000 [==============================] - 104s 2ms/step - loss: 0.0763 - acc: 0.9762 - val_loss: 3.0609 - val_acc: 0.5490\n",
      "Epoch 56/100\n",
      "50000/50000 [==============================] - 104s 2ms/step - loss: 0.0701 - acc: 0.9789 - val_loss: 3.2023 - val_acc: 0.5451\n",
      "Epoch 57/100\n",
      "50000/50000 [==============================] - 104s 2ms/step - loss: 0.0753 - acc: 0.9772 - val_loss: 3.0935 - val_acc: 0.5504\n",
      "Epoch 58/100\n",
      "50000/50000 [==============================] - 104s 2ms/step - loss: 0.0660 - acc: 0.9798 - val_loss: 3.0082 - val_acc: 0.5494\n",
      "Epoch 59/100\n"
     ]
    },
    {
     "name": "stdout",
     "output_type": "stream",
     "text": [
      "50000/50000 [==============================] - 103s 2ms/step - loss: 0.0683 - acc: 0.9801 - val_loss: 3.3267 - val_acc: 0.5526\n",
      "Epoch 60/100\n",
      "50000/50000 [==============================] - 103s 2ms/step - loss: 0.0696 - acc: 0.9787 - val_loss: 2.8898 - val_acc: 0.5509\n",
      "Epoch 61/100\n",
      "50000/50000 [==============================] - 104s 2ms/step - loss: 0.0548 - acc: 0.9824 - val_loss: 3.2052 - val_acc: 0.5483\n",
      "Epoch 62/100\n",
      "50000/50000 [==============================] - 104s 2ms/step - loss: 0.0683 - acc: 0.9795 - val_loss: 3.1231 - val_acc: 0.5551\n",
      "Epoch 63/100\n",
      "50000/50000 [==============================] - 103s 2ms/step - loss: 0.0740 - acc: 0.9774 - val_loss: 3.0966 - val_acc: 0.5460\n",
      "Epoch 64/100\n",
      "50000/50000 [==============================] - 103s 2ms/step - loss: 0.0718 - acc: 0.9786 - val_loss: 3.0310 - val_acc: 0.5462\n",
      "Epoch 65/100\n",
      "50000/50000 [==============================] - 103s 2ms/step - loss: 0.0555 - acc: 0.9834 - val_loss: 3.0371 - val_acc: 0.5544\n",
      "Epoch 66/100\n",
      "50000/50000 [==============================] - 103s 2ms/step - loss: 0.0671 - acc: 0.9810 - val_loss: 3.1340 - val_acc: 0.5427\n",
      "Epoch 67/100\n",
      "50000/50000 [==============================] - 103s 2ms/step - loss: 0.0582 - acc: 0.9821 - val_loss: 3.0281 - val_acc: 0.5559\n",
      "Epoch 68/100\n",
      "50000/50000 [==============================] - 103s 2ms/step - loss: 0.0496 - acc: 0.9851 - val_loss: 3.0847 - val_acc: 0.5546\n",
      "Epoch 69/100\n",
      "50000/50000 [==============================] - 103s 2ms/step - loss: 0.0555 - acc: 0.9831 - val_loss: 3.0864 - val_acc: 0.5595\n",
      "Epoch 70/100\n",
      "50000/50000 [==============================] - 103s 2ms/step - loss: 0.0551 - acc: 0.9840 - val_loss: 3.2391 - val_acc: 0.5572\n",
      "Epoch 71/100\n",
      "50000/50000 [==============================] - 104s 2ms/step - loss: 0.0651 - acc: 0.9807 - val_loss: 2.9845 - val_acc: 0.5444\n",
      "Epoch 72/100\n",
      "50000/50000 [==============================] - 103s 2ms/step - loss: 0.0532 - acc: 0.9830 - val_loss: 3.1668 - val_acc: 0.5503\n",
      "Epoch 73/100\n",
      "50000/50000 [==============================] - 103s 2ms/step - loss: 0.0634 - acc: 0.9811 - val_loss: 2.9770 - val_acc: 0.5535\n",
      "Epoch 74/100\n",
      "50000/50000 [==============================] - 103s 2ms/step - loss: 0.0523 - acc: 0.9841 - val_loss: 3.1785 - val_acc: 0.5580\n",
      "Epoch 75/100\n",
      "50000/50000 [==============================] - 103s 2ms/step - loss: 0.0560 - acc: 0.9834 - val_loss: 3.0326 - val_acc: 0.5580\n",
      "Epoch 76/100\n",
      "50000/50000 [==============================] - 103s 2ms/step - loss: 0.0544 - acc: 0.9838 - val_loss: 3.1338 - val_acc: 0.5557\n",
      "Epoch 77/100\n",
      "50000/50000 [==============================] - 103s 2ms/step - loss: 0.0457 - acc: 0.9864 - val_loss: 3.2173 - val_acc: 0.5545\n",
      "Epoch 78/100\n",
      "50000/50000 [==============================] - 104s 2ms/step - loss: 0.0655 - acc: 0.9811 - val_loss: 3.2950 - val_acc: 0.5548\n",
      "Epoch 79/100\n",
      "50000/50000 [==============================] - 103s 2ms/step - loss: 0.0493 - acc: 0.9853 - val_loss: 3.2797 - val_acc: 0.5509\n",
      "Epoch 80/100\n",
      "50000/50000 [==============================] - 103s 2ms/step - loss: 0.0476 - acc: 0.9861 - val_loss: 3.0868 - val_acc: 0.5516\n",
      "Epoch 81/100\n",
      "50000/50000 [==============================] - 103s 2ms/step - loss: 0.0585 - acc: 0.9830 - val_loss: 3.1784 - val_acc: 0.5459\n",
      "Epoch 82/100\n",
      "50000/50000 [==============================] - 103s 2ms/step - loss: 0.0595 - acc: 0.9825 - val_loss: 2.9689 - val_acc: 0.5458\n",
      "Epoch 83/100\n",
      "50000/50000 [==============================] - 103s 2ms/step - loss: 0.0492 - acc: 0.9860 - val_loss: 3.1265 - val_acc: 0.5532\n",
      "Epoch 84/100\n",
      "50000/50000 [==============================] - 103s 2ms/step - loss: 0.0450 - acc: 0.9863 - val_loss: 3.0995 - val_acc: 0.5559\n",
      "Epoch 85/100\n",
      "50000/50000 [==============================] - 103s 2ms/step - loss: 0.0456 - acc: 0.9868 - val_loss: 3.1416 - val_acc: 0.5569\n",
      "Epoch 86/100\n",
      "50000/50000 [==============================] - 104s 2ms/step - loss: 0.0530 - acc: 0.9843 - val_loss: 3.0382 - val_acc: 0.5466\n",
      "Epoch 87/100\n",
      "50000/50000 [==============================] - 103s 2ms/step - loss: 0.0376 - acc: 0.9886 - val_loss: 3.2427 - val_acc: 0.5476\n",
      "Epoch 88/100\n",
      "50000/50000 [==============================] - 103s 2ms/step - loss: 0.0468 - acc: 0.9866 - val_loss: 3.2580 - val_acc: 0.5466\n",
      "Epoch 89/100\n",
      "50000/50000 [==============================] - 103s 2ms/step - loss: 0.0523 - acc: 0.9850 - val_loss: 3.1527 - val_acc: 0.5510\n",
      "Epoch 90/100\n",
      "50000/50000 [==============================] - 103s 2ms/step - loss: 0.0617 - acc: 0.9829 - val_loss: 3.1856 - val_acc: 0.5527\n",
      "Epoch 91/100\n",
      "50000/50000 [==============================] - 103s 2ms/step - loss: 0.0373 - acc: 0.9895 - val_loss: 3.0813 - val_acc: 0.5582\n",
      "Epoch 92/100\n",
      "50000/50000 [==============================] - 103s 2ms/step - loss: 0.0445 - acc: 0.9869 - val_loss: 3.1859 - val_acc: 0.5484\n",
      "Epoch 93/100\n",
      "50000/50000 [==============================] - 103s 2ms/step - loss: 0.0485 - acc: 0.9859 - val_loss: 3.0225 - val_acc: 0.5434\n",
      "Epoch 94/100\n",
      "50000/50000 [==============================] - 103s 2ms/step - loss: 0.0410 - acc: 0.9880 - val_loss: 3.3740 - val_acc: 0.5533\n",
      "Epoch 95/100\n",
      "50000/50000 [==============================] - 103s 2ms/step - loss: 0.0415 - acc: 0.9887 - val_loss: 3.2388 - val_acc: 0.5527\n",
      "Epoch 96/100\n",
      "50000/50000 [==============================] - 104s 2ms/step - loss: 0.0423 - acc: 0.9875 - val_loss: 3.1164 - val_acc: 0.5537\n",
      "Epoch 97/100\n",
      "50000/50000 [==============================] - 103s 2ms/step - loss: 0.0386 - acc: 0.9888 - val_loss: 3.3101 - val_acc: 0.5504\n",
      "Epoch 98/100\n",
      "50000/50000 [==============================] - 104s 2ms/step - loss: 0.0435 - acc: 0.9870 - val_loss: 3.1494 - val_acc: 0.5517\n",
      "Epoch 99/100\n",
      "50000/50000 [==============================] - 103s 2ms/step - loss: 0.0523 - acc: 0.9850 - val_loss: 3.1684 - val_acc: 0.5497\n",
      "Epoch 100/100\n",
      "50000/50000 [==============================] - 104s 2ms/step - loss: 0.0414 - acc: 0.9875 - val_loss: 3.0746 - val_acc: 0.5593\n"
     ]
    },
    {
     "data": {
      "text/plain": [
       "<keras.callbacks.History at 0x36dedf88>"
      ]
     },
     "execution_count": 9,
     "metadata": {},
     "output_type": "execute_result"
    }
   ],
   "source": [
    "model.fit(x_train, y_train, \n",
    "          epochs=EPOCHS, \n",
    "          batch_size=BATCH_SIZE, \n",
    "          validation_data=(x_test, y_test), \n",
    "          shuffle=True)"
   ]
  },
  {
   "cell_type": "code",
   "execution_count": 11,
   "metadata": {},
   "outputs": [
    {
     "data": {
      "image/png": "[encoded data removed]",
      "text/plain": [
       "<Figure size 432x288 with 1 Axes>"
      ]
     },
     "metadata": {
      "needs_background": "light"
     },
     "output_type": "display_data"
    },
    {
     "data": {
      "image/png": "[encoded data removed]",
      "text/plain": [
       "<Figure size 432x288 with 1 Axes>"
      ]
     },
     "metadata": {
      "needs_background": "light"
     },
     "output_type": "display_data"
    }
   ],
   "source": [
    "import matplotlib.pyplot as plt\n",
    "\n",
    "\n",
    "train_loss = model.history.history[\"loss\"]\n",
    "valid_loss = model.history.history[\"val_loss\"]\n",
    "\n",
    "train_acc = model.history.history[\"acc\"]\n",
    "valid_acc = model.history.history[\"val_acc\"]\n",
    "\n",
    "plt.plot(range(len(train_loss)), train_loss, label=\"train loss\")\n",
    "plt.plot(range(len(valid_loss)), valid_loss, label=\"valid loss\")\n",
    "plt.legend()\n",
    "plt.title(\"Loss\")\n",
    "plt.show()\n",
    "\n",
    "plt.plot(range(len(train_acc)), train_acc, label=\"train accuracy\")\n",
    "plt.plot(range(len(valid_acc)), valid_acc, label=\"valid accuracy\")\n",
    "plt.legend()\n",
    "plt.title(\"Accuracy\")\n",
    "plt.show()"
   ]
  },
  {
   "cell_type": "code",
   "execution_count": null,
   "metadata": {},
   "outputs": [],
   "source": []
  }
 ],
 "metadata": {
  "kernelspec": {
   "display_name": "Python 3",
   "language": "python",
   "name": "python3"
  },
  "language_info": {
   "codemirror_mode": {
    "name": "ipython",
    "version": 3
   },
   "file_extension": ".py",
   "mimetype": "text/x-python",
   "name": "python",
   "nbconvert_exporter": "python",
   "pygments_lexer": "ipython3",
   "version": "3.7.5"
  }
 },
 "nbformat": 4,
 "nbformat_minor": 2
}
